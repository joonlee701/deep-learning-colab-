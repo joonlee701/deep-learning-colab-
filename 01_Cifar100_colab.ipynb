{
  "nbformat": 4,
  "nbformat_minor": 0,
  "metadata": {
    "colab": {
      "name": "01_Cifar100_colab.ipynb",
      "provenance": [],
      "collapsed_sections": [],
      "authorship_tag": "ABX9TyOAaNWGhYCqQ7jAb4u1xxz7",
      "include_colab_link": true
    },
    "kernelspec": {
      "name": "python3",
      "display_name": "Python 3"
    },
    "accelerator": "GPU"
  },
  "cells": [
    {
      "cell_type": "markdown",
      "metadata": {
        "id": "view-in-github",
        "colab_type": "text"
      },
      "source": [
        "<a href=\"https://colab.research.google.com/github/joonlee701/deep-learning-colab-/blob/master/01_Cifar100_colab.ipynb\" target=\"_parent\"><img src=\"https://colab.research.google.com/assets/colab-badge.svg\" alt=\"Open In Colab\"/></a>"
      ]
    },
    {
      "cell_type": "code",
      "metadata": {
        "id": "c8qjWESawnlj",
        "colab_type": "code",
        "colab": {}
      },
      "source": [
        "# Cifar-100 이미지 분류\n",
        "## 전체 데이터중 일부분만 사용\n",
        "### 모델 출처: [Divya Agarwal](https://github.com/divya025/Cifar100)"
      ],
      "execution_count": null,
      "outputs": []
    },
    {
      "cell_type": "code",
      "metadata": {
        "id": "mQIBnt2lxLmj",
        "colab_type": "code",
        "colab": {}
      },
      "source": [
        "import tensorflow as tf\n",
        "from tensorflow.keras.datasets import cifar100\n",
        "(X_train, y_train), (X_test, y_test) = cifar100.load_data(label_mode='fine')"
      ],
      "execution_count": null,
      "outputs": []
    },
    {
      "cell_type": "code",
      "metadata": {
        "id": "2oj9uUaXxLou",
        "colab_type": "code",
        "colab": {}
      },
      "source": [
        "X_train.shape, X_test.shape"
      ],
      "execution_count": null,
      "outputs": []
    },
    {
      "cell_type": "code",
      "metadata": {
        "id": "titmi6IpxLq9",
        "colab_type": "code",
        "colab": {}
      },
      "source": [
        "y_train[:10]"
      ],
      "execution_count": null,
      "outputs": []
    },
    {
      "cell_type": "code",
      "metadata": {
        "id": "8A0Tk5_9xLtu",
        "colab_type": "code",
        "colab": {}
      },
      "source": [
        "#### 데이터 확인"
      ],
      "execution_count": null,
      "outputs": []
    },
    {
      "cell_type": "code",
      "metadata": {
        "id": "CXO8u0YJxLwW",
        "colab_type": "code",
        "colab": {}
      },
      "source": [
        "import matplotlib as mpl\n",
        "import matplotlib.pyplot as plt\n",
        "%matplotlib inline\n",
        "\n",
        "plt.subplot(141)\n",
        "plt.imshow(X_train[0], interpolation=\"bicubic\")\n",
        "plt.grid(False)\n",
        "plt.subplot(142)\n",
        "plt.imshow(X_train[4], interpolation=\"bicubic\")\n",
        "plt.grid(False)\n",
        "plt.subplot(143)\n",
        "plt.imshow(X_train[8], interpolation=\"bicubic\")\n",
        "plt.grid(False)\n",
        "plt.subplot(144)\n",
        "plt.imshow(X_train[12], interpolation=\"bicubic\")\n",
        "plt.grid(False)\n",
        "plt.show()"
      ],
      "execution_count": null,
      "outputs": []
    },
    {
      "cell_type": "code",
      "metadata": {
        "id": "I0MEoCanxLx1",
        "colab_type": "code",
        "colab": {}
      },
      "source": [
        "y_train[0], y_train[4], y_train[8], y_train[12]"
      ],
      "execution_count": null,
      "outputs": []
    },
    {
      "cell_type": "code",
      "metadata": {
        "id": "RUdDhBaXxL0F",
        "colab_type": "code",
        "colab": {}
      },
      "source": [
        "X_train = X_train.astype('float32')/255.0\n",
        "X_test = X_test.astype('float32')/255.0\n",
        "\n",
        "print(X_train.shape, X_train.dtype)"
      ],
      "execution_count": null,
      "outputs": []
    },
    {
      "cell_type": "code",
      "metadata": {
        "id": "_87xj4YExL2N",
        "colab_type": "code",
        "colab": {
          "base_uri": "https://localhost:8080/",
          "height": 199
        },
        "outputId": "59f7120d-f408-4152-f7c6-b608e495b047"
      },
      "source": [
        "Y_train = tf.keras.utils.to_categorical(y_train, 100)\n",
        "Y_test = tf.keras.utils.to_categorical(y_test, 100)\n",
        "Y_train[:2]"
      ],
      "execution_count": null,
      "outputs": [
        {
          "output_type": "error",
          "ename": "NameError",
          "evalue": "ignored",
          "traceback": [
            "\u001b[0;31m---------------------------------------------------------------------------\u001b[0m",
            "\u001b[0;31mNameError\u001b[0m                                 Traceback (most recent call last)",
            "\u001b[0;32m<ipython-input-1-c05662446481>\u001b[0m in \u001b[0;36m<module>\u001b[0;34m()\u001b[0m\n\u001b[0;32m----> 1\u001b[0;31m \u001b[0mY_train\u001b[0m \u001b[0;34m=\u001b[0m \u001b[0mtf\u001b[0m\u001b[0;34m.\u001b[0m\u001b[0mkeras\u001b[0m\u001b[0;34m.\u001b[0m\u001b[0mutils\u001b[0m\u001b[0;34m.\u001b[0m\u001b[0mto_categorical\u001b[0m\u001b[0;34m(\u001b[0m\u001b[0my_train\u001b[0m\u001b[0;34m,\u001b[0m \u001b[0;36m100\u001b[0m\u001b[0;34m)\u001b[0m\u001b[0;34m\u001b[0m\u001b[0;34m\u001b[0m\u001b[0m\n\u001b[0m\u001b[1;32m      2\u001b[0m \u001b[0mY_test\u001b[0m \u001b[0;34m=\u001b[0m \u001b[0mtf\u001b[0m\u001b[0;34m.\u001b[0m\u001b[0mkeras\u001b[0m\u001b[0;34m.\u001b[0m\u001b[0mutils\u001b[0m\u001b[0;34m.\u001b[0m\u001b[0mto_categorical\u001b[0m\u001b[0;34m(\u001b[0m\u001b[0my_test\u001b[0m\u001b[0;34m,\u001b[0m \u001b[0;36m100\u001b[0m\u001b[0;34m)\u001b[0m\u001b[0;34m\u001b[0m\u001b[0;34m\u001b[0m\u001b[0m\n\u001b[1;32m      3\u001b[0m \u001b[0mY_train\u001b[0m\u001b[0;34m[\u001b[0m\u001b[0;34m:\u001b[0m\u001b[0;36m2\u001b[0m\u001b[0;34m]\u001b[0m\u001b[0;34m\u001b[0m\u001b[0;34m\u001b[0m\u001b[0m\n",
            "\u001b[0;31mNameError\u001b[0m: name 'tf' is not defined"
          ]
        }
      ]
    },
    {
      "cell_type": "code",
      "metadata": {
        "id": "Kxpx2_VTxYrX",
        "colab_type": "code",
        "colab": {}
      },
      "source": [
        "#### 자료의 일부만 사용하여 모델 테스트 하기"
      ],
      "execution_count": null,
      "outputs": []
    },
    {
      "cell_type": "code",
      "metadata": {
        "id": "q4MMpPH3xYt2",
        "colab_type": "code",
        "colab": {}
      },
      "source": [
        "from sklearn.model_selection import train_test_split\n",
        "\n",
        "seed = 0\n",
        "X_train, X_test, Y_train, Y_test = train_test_split(X_test, Y_test, \n",
        "                                                    test_size=.2, random_state=seed)"
      ],
      "execution_count": null,
      "outputs": []
    },
    {
      "cell_type": "code",
      "metadata": {
        "id": "iHpExydXxYwF",
        "colab_type": "code",
        "colab": {}
      },
      "source": [
        "from tensorflow.keras.models import Sequential\n",
        "from tensorflow.keras.layers import Conv2D, MaxPooling2D, Flatten, Dense, Dropout\n",
        "from tensorflow.keras.layers import Activation\n",
        "import numpy as np\n",
        "\n",
        "np.random.seed(0)"
      ],
      "execution_count": null,
      "outputs": []
    },
    {
      "cell_type": "code",
      "metadata": {
        "id": "5FVFfMgIxYyf",
        "colab_type": "code",
        "colab": {}
      },
      "source": [
        "model = Sequential()\n",
        "\n",
        "# Input Layer\n",
        "model.add(Conv2D(32, (3,3), padding='same', input_shape = X_train.shape[1:]))\n",
        "model.add(Activation('relu'))\n",
        "\n",
        "\n",
        "# MAXPOOL Layer 1\n",
        "model.add(MaxPooling2D(pool_size=(2, 2)))\n",
        "model.add(Activation('relu'))\n",
        "# CONV2D Layer 2\n",
        "model.add(Conv2D(64, (3,3), padding='same'))\n",
        "model.add(Activation('relu'))\n",
        "# MAXPOOL Layer 2\n",
        "model.add(MaxPooling2D(pool_size=(2, 2)))\n",
        "model.add(Activation('relu'))\n",
        "# Add a dropout of 10%\n",
        "model.add(Dropout(0.1))\n",
        "# CONV2D Layer 3\n",
        "model.add(Conv2D(128, (3,3), padding='same'))\n",
        "model.add(Activation('relu'))\n",
        "# MAXPOOL Layer 3\n",
        "model.add(MaxPooling2D(pool_size=(2,2)))\n",
        "# Add dropout of 25%\n",
        "model.add(Dropout(0.25))\n",
        "# flatten \n",
        "model.add(Flatten())\n",
        "# Fully Connected Layer 1\n",
        "model.add(Dense(512))\n",
        "model.add(Activation('relu'))\n",
        "# Adding a dropout of 50%\n",
        "model.add(Dropout(0.5))\n",
        "\n",
        "\n",
        "# Output Layer (Fully Connected Layer 2) \n",
        "model.add(Dense(100))\n",
        "model.add(Activation('softmax'))\n",
        "          \n",
        "model.summary()"
      ],
      "execution_count": null,
      "outputs": []
    },
    {
      "cell_type": "code",
      "metadata": {
        "id": "qcARo3mCxY0F",
        "colab_type": "code",
        "colab": {}
      },
      "source": [
        "opt = tf.keras.optimizers.Adam(lr=0.0001)\n",
        "model.compile(loss='categorical_crossentropy', optimizer=opt, metrics=['accuracy'])"
      ],
      "execution_count": null,
      "outputs": []
    },
    {
      "cell_type": "code",
      "metadata": {
        "id": "9pRcSsavxgtu",
        "colab_type": "code",
        "colab": {}
      },
      "source": [
        "history = model.fit(X_train, Y_train, epochs=100, batch_size=50,\n",
        "                    validation_data=(X_test, Y_test), verbose=1)"
      ],
      "execution_count": null,
      "outputs": []
    },
    {
      "cell_type": "code",
      "metadata": {
        "id": "eJvtqTZTxgv-",
        "colab_type": "code",
        "colab": {}
      },
      "source": [
        "# 테스트 정확도 출력 \n",
        "print(\"\\n Test Accuracy: %.4f\" % (model.evaluate(X_test, Y_test)[1]))"
      ],
      "execution_count": null,
      "outputs": []
    },
    {
      "cell_type": "code",
      "metadata": {
        "id": "rWzHT0yOxgyF",
        "colab_type": "code",
        "colab": {}
      },
      "source": [
        "# 테스트셋\n",
        "y_vloss = history.history['val_loss']\n",
        "y_vacc = history.history['val_accuracy']\n",
        "# 학습셋\n",
        "y_loss = history.history['loss']\n",
        "y_acc = history.history['accuracy']"
      ],
      "execution_count": null,
      "outputs": []
    },
    {
      "cell_type": "code",
      "metadata": {
        "id": "lKSNB6XNxg0o",
        "colab_type": "code",
        "colab": {}
      },
      "source": [
        "# 그래프로 표현\n",
        "x_len = np.arange(1, len(y_loss)+1)\n",
        "fig, ax0 = plt.subplots(figsize=(10,8))\n",
        "ax1 = ax0.twinx()\n",
        "ax0.plot(x_len, y_loss, c=\"blue\", label='Trainset_loss')\n",
        "ax0.plot(x_len, y_vloss, c=\"red\", label='Testset_loss')\n",
        "ax0.set_ylabel('loss')\n",
        "ax1.plot(x_len, y_acc, c=\"darkgreen\", label='Trainset_acc')\n",
        "ax1.plot(x_len, y_vacc, c=\"magenta\", label='Testset_acc')\n",
        "ax1.set_ylabel('accuracy')\n",
        "ax0.set_xlabel('epoch')\n",
        "ax0.legend(loc='upper center')\n",
        "ax1.legend(loc='lower center')\n",
        "plt.show()"
      ],
      "execution_count": null,
      "outputs": []
    },
    {
      "cell_type": "code",
      "metadata": {
        "id": "9ZXfcPr1xL4V",
        "colab_type": "code",
        "colab": {}
      },
      "source": [
        ""
      ],
      "execution_count": null,
      "outputs": []
    }
  ]
}